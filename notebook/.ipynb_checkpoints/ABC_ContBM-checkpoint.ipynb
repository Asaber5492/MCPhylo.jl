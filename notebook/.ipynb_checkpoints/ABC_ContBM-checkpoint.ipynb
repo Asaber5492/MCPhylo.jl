{
 "cells": [
  {
   "cell_type": "markdown",
   "metadata": {},
   "source": [
    "# Phylogenetic Inference from Binary Characters using a logistic model and ABC\n",
    "\n",
    "\n",
    "\n"
   ]
  },
  {
   "cell_type": "code",
   "execution_count": 1,
   "metadata": {},
   "outputs": [
    {
     "name": "stderr",
     "output_type": "stream",
     "text": [
      "┌ Warning: The Julia CUDA library is installed, but no CUDA device detected.\n",
      "│          Computation is performed without CUDA functionality.\n",
      "└ @ Main.MCPhylo C:\\Programming\\Julia_Tree\\src\\MCPhylo.jl:30\n"
     ]
    }
   ],
   "source": [
    "include(\"../src/MCPhylo.jl\")\n",
    "using .MCPhylo\n"
   ]
  },
  {
   "cell_type": "code",
   "execution_count": 2,
   "metadata": {},
   "outputs": [],
   "source": [
    "mt, df = make_tree_with_data(\"Dravidian.cc.phy.nex\"); # load your own nexus file\n",
    "\n",
    "n_leaves = length(MCPhylo.get_leaves(mt))\n",
    "n_concs = size(df, 2)\n",
    "arr = [df[:,:,n.num] for n in MCPhylo.get_leaves(mt)]\n",
    "arrn = zeros(n_leaves, n_concs)\n",
    "for (ind, i) in enumerate(arr)\n",
    "    arrn[ind, :] .= i[1,:]\n",
    "end\n"
   ]
  },
  {
   "cell_type": "markdown",
   "metadata": {},
   "source": [
    "arrn is an arry of size concepts x leaves"
   ]
  },
  {
   "cell_type": "code",
   "execution_count": 3,
   "metadata": {},
   "outputs": [
    {
     "data": {
      "text/plain": [
       "2-element Array{Sampler,1}:\n",
       " An object of type \"Sampler{Main.MCPhylo.ABCTune}\"\n",
       "Sampling Block Nodes:\n",
       "[:μ]\n",
       "\n",
       "CodeInfo(\n",
       "\u001b[90m1 ─\u001b[39m %1 = π (Main.MCPhylo.var\"#195#205\"{Main.MCPhylo.var\"#203#213\",UnionAll,Int64,Int64,Float64,Bool,Base.Iterators.Pairs{Union{},Union{},Tuple{},NamedTuple{(),Tuple{}}},Float64,typeof(identity),Float64,Main.MCPhylo.var\"#194#204\"{UnionAll}}(Main.MCPhylo.var\"#203#213\"(), Normal, 100, 3, 1.0, false, Base.Iterators.Pairs{Union{},Union{},Tuple{},NamedTuple{(),Tuple{}}}(), Core.Box([:μ]), 0.5, identity, 0.5, Core.Box(#undef), Core.Box(#undef), Core.Box(#undef), Main.MCPhylo.var\"#194#204\"{UnionAll}(Normal)), \u001b[36mCore.Compiler.Const(Main.MCPhylo.var\"#195#205\"{Main.MCPhylo.var\"#203#213\",UnionAll,Int64,Int64,Float64,Bool,Base.Iterators.Pairs{Union{},Union{},Tuple{},NamedTuple{(),Tuple{}}},Float64,typeof(identity),Float64,Main.MCPhylo.var\"#194#204\"{UnionAll}}(Main.MCPhylo.var\"#203#213\"(), Normal, 100, 3, 1.0, false, Base.Iterators.Pairs{Union{},Union{},Tuple{},NamedTuple{(),Tuple{}}}(), Core.Box([:μ]), 0.5, identity, 0.5, Core.Box(#undef), Core.Box(#undef), Core.Box(#undef), Main.MCPhylo.var\"#194#204\"{UnionAll}(Normal)), false)\u001b[39m)\n",
       "\u001b[90m│  \u001b[39m %2 = (%1)(model, block)\u001b[36m::Dict{Symbol,Any}\u001b[39m\n",
       "\u001b[90m└──\u001b[39m      return %2\n",
       ") => Dict{Symbol,Any}\n",
       "\n",
       " An object of type \"Sampler{Main.MCPhylo.SliceTune{Univariate}}\"\n",
       "Sampling Block Nodes:\n",
       "[:μH, :σH]\n",
       "\n",
       "CodeInfo(\n",
       "\u001b[90m1 ─\u001b[39m %1 = π (Main.MCPhylo.var\"#331#333\"{Bool,Float64}(false, 0.05), \u001b[36mCore.Compiler.Const(Main.MCPhylo.var\"#331#333\"{Bool,Float64}(false, 0.05), false)\u001b[39m)\n",
       "\u001b[90m│  \u001b[39m %2 = (%1)(model, block)\u001b[36m::Any\u001b[39m\n",
       "\u001b[90m└──\u001b[39m      return %2\n",
       ") => Any\n"
      ]
     },
     "execution_count": 3,
     "metadata": {},
     "output_type": "execute_result"
    }
   ],
   "source": [
    "\n",
    "my_data = Dict{Symbol, Any}(\n",
    "  :mtree => mt,\n",
    "  :arrn => arrn,\n",
    "  :leaves => size(arrn, 1),\n",
    "  :residuals => size(arrn, 2),\n",
    "  :nnodes => size(df, 3),\n",
    "  :σ => ones(n_concs)\n",
    ");\n",
    "\n",
    "\n",
    "model =  Model(\n",
    "    arrn = Stochastic(1,\n",
    "            (μ, σ, Σ, leaves, residuals) -> MultivariateDistribution[\n",
    "                                            Bernoulli.(MvNormal(μ[j],σ[i].*Σ)) for j in 1:residuals], true),\n",
    "    μ = Stochastic(1, (μH, σH) -> Normal(μH, σH), true),\n",
    "    μH = Stochastic(()->Normal(), true),\n",
    "    σH = Stochastic(()->Exponential(), true),\n",
    "    σ = Stochastic(1,(λ) -> Exponential(λ), true),\n",
    "    λ = Stochastic(() -> Exponential(), true),\n",
    "    Σ = Logical(2, (mtree) -> MCPhylo.to_covariance(mtree), false),\n",
    "    mtree = Stochastic(Node(), () -> CompoundDirichlet(1.0,1.0,0.100,1.0), my_data[:nnodes]+1, true),\n",
    "    );\n",
    "\n",
    "inits = [Dict{Symbol, Union{Any, Real}}(\n",
    "    :mtree => mt,\n",
    "    :arrn => my_data[:arrn],\n",
    "    :nnodes => my_data[:nnodes],\n",
    "    :residuals => my_data[:residuals],\n",
    "    :leaves => my_data[:leaves],\n",
    "    :μH => rand(),\n",
    "    :σH => rand(),\n",
    "    :μ => randn(my_data[:residuals]),\n",
    "    :λ => rand(),\n",
    "    :σ => ones(my_data[:residuals]),\n",
    "    )\n",
    "    ]\n",
    "\n",
    "scheme = [ABC(:μ, 0.5, identity, 0.5, kernel=Normal, maxdraw=100, nsim=3),\n",
    "          Slice([:μH, :σH], 0.05, Univariate)\n",
    "          ]"
   ]
  },
  {
   "cell_type": "markdown",
   "metadata": {},
   "source": []
  },
  {
   "cell_type": "code",
   "execution_count": 4,
   "metadata": {},
   "outputs": [
    {
     "ename": "UndefVarError",
     "evalue": "UndefVarError: T not defined",
     "output_type": "error",
     "traceback": [
      "UndefVarError: T not defined",
      "",
      "Stacktrace:",
      " [1] to_covariance(::TreeStochastic{GeneralNode{String,Float64,Array{Float64,2},Array{Float64,2},Int64,String,Bool}}) at C:\\Programming\\Julia_Tree\\src\\Tree\\Converter.jl:108",
      " [2] (::var\"#11#19\")(::TreeStochastic{GeneralNode{String,Float64,Array{Float64,2},Array{Float64,2},Int64,String,Bool}}) at .\\In[3]:21",
      " [3] (::var\"#33#34\")(::Model) at .\\array.jl:0",
      " [4] setinits!(::ArrayLogical{2}, ::Model, ::Nothing) at C:\\Programming\\Julia_Tree\\src\\model\\dependent.jl:120 (repeats 2 times)",
      " [5] setinits!(::Model, ::Dict{Symbol,Any}) at C:\\Programming\\Julia_Tree\\src\\model\\initialization.jl:12",
      " [6] setinits!(::Model, ::Array{Dict{Symbol,Any},1}) at C:\\Programming\\Julia_Tree\\src\\model\\initialization.jl:23",
      " [7] mcmc(::Model, ::Dict{Symbol,Any}, ::Array{Dict{Symbol,Any},1}, ::Int64; burnin::Int64, thin::Int64, chains::Int64, verbose::Bool, trees::Bool) at C:\\Programming\\Julia_Tree\\src\\model\\mcmc.jl:43",
      " [8] top-level scope at In[4]:2"
     ]
    }
   ],
   "source": [
    "setsamplers!(model, scheme)\n",
    "\n",
    "sim = mcmc(model, my_data, inits, 20, burnin=10,thin=2, chains=1, trees=true)"
   ]
  },
  {
   "cell_type": "code",
   "execution_count": null,
   "metadata": {},
   "outputs": [],
   "source": []
  }
 ],
 "metadata": {
  "kernelspec": {
   "display_name": "Julia 1.4.2",
   "language": "julia",
   "name": "julia-1.4"
  },
  "language_info": {
   "file_extension": ".jl",
   "mimetype": "application/julia",
   "name": "julia",
   "version": "1.4.2"
  }
 },
 "nbformat": 4,
 "nbformat_minor": 4
}
