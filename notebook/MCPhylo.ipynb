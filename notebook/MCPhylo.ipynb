{
 "cells": [
  {
   "cell_type": "markdown",
   "metadata": {},
   "source": [
    "# Markov Chain Monte Carlo for Trees using a Mamba extension\n",
    "\n",
    "Typical data format in phylogenetic linguistics\n",
    "\n",
    "|Language | Mountain | You | ...\n",
    "|---------|------|-----|-----\n",
    "|Swedish  | 1 |  1  | ...\n",
    "|Norwegian| 1 |  1  | ...\n",
    "|Italian  | 2 |  1  | ...\n",
    "\n",
    "Such data is used for phylogenetic inference using Bayesian methods. Based on an Markov Process wich describes the untderlying evolutionary process of character evolution Markov Chain Monte Carlo Methods can be used to estimate a posterior of phylogenetic trees. Using such (or other) trees, further statistical questions can be asked. Several of these questions are based on a statistical model whose parameters need to be infered using Markov Chain Monte Carlo methods. This requires a flexible framework which can be used to define these models. Additionally, inference should be relatively fast.\n",
    "\n",
    "The Julia programming language is a new language which aims to be high performance and easy to write. This makes it a good starting point to develop a system which can be used by many to define models for their needs but also efficient in calculating these models. \n",
    "\n",
    "The [Mamba package](https://mambajl.readthedocs.io/en/latest/intro.html) offers a good starting point to develop an infrastructure for said tasks using the Julia Programming Language."
   ]
  },
  {
   "cell_type": "code",
   "execution_count": 1,
   "metadata": {
    "scrolled": true
   },
   "outputs": [
    {
     "name": "stderr",
     "output_type": "stream",
     "text": [
      "┌ Info: Loading DataFrames support into Gadfly.jl\n",
      "└ @ Gadfly /home/johannes/.julia/packages/Gadfly/09PWZ/src/mapping.jl:228\n"
     ]
    }
   ],
   "source": [
    "include(\"../MCPhylo/src/MCPhylo.jl\");\n",
    "using .MCPhylo;\n",
    "using Random;\n",
    "using GraphIO\n",
    "Random.seed!(1234);"
   ]
  },
  {
   "cell_type": "markdown",
   "metadata": {},
   "source": [
    "As a first step read in the data from the data file. This function creates a tree object (`m_tree`) which is a random binary tree with the languages specified in the data fiel as the leaves and an array object, which stores the character information."
   ]
  },
  {
   "cell_type": "code",
   "execution_count": 2,
   "metadata": {},
   "outputs": [],
   "source": [
    "m_tree, df = make_tree_with_data(\"../local/development.nex\"); # load your own nexus file"
   ]
  },
  {
   "cell_type": "markdown",
   "metadata": {},
   "source": [
    "In a next step all the relevant information needs to be stored in a dictionary so they can be used later on. The entries `:nnodes`, `:nsites` and `:nbase` store the the dimensions of the data array. Additionally the data array is log transformed. The log transformation is necessary for the likelihood computation."
   ]
  },
  {
   "cell_type": "code",
   "execution_count": 3,
   "metadata": {},
   "outputs": [
    {
     "data": {
      "text/plain": [
       "Dict{Symbol,Any} with 5 entries:\n",
       "  :df     => [0.0 -Inf; 0.0 -Inf; … ; -Inf -Inf; -Inf -Inf]…\n",
       "  :nnodes => 17\n",
       "  :mtree  => \"17\"\n",
       "  :nsites => 3132\n",
       "  :nbase  => 2"
      ]
     },
     "execution_count": 3,
     "metadata": {},
     "output_type": "execute_result"
    }
   ],
   "source": [
    "my_data = Dict{Symbol, Any}(\n",
    "  :mtree => m_tree,\n",
    "  :df => log.(df),\n",
    "  :nnodes => size(df)[1],\n",
    "  :nbase => size(df)[2],\n",
    "  :nsites => size(df)[3])\n"
   ]
  },
  {
   "cell_type": "markdown",
   "metadata": {},
   "source": [
    "The important part is the model definition. The idea is to define a model in terms of a graph. The graph represents the model and thus the explicit relationships between the parameters."
   ]
  },
  {
   "cell_type": "code",
   "execution_count": 8,
   "metadata": {},
   "outputs": [
    {
     "data": {
      "text/plain": [
       "Object of type \"Model\"\n",
       "-------------------------------------------------------------------------------\n",
       "mymap:\n",
       "Object of type \"0-element ArrayStochastic{1}\"\n",
       "Float64[]\n",
       "-------------------------------------------------------------------------------\n",
       "av:\n",
       "Object of type \"0-element ArrayStochastic{1}\"\n",
       "Float64[]\n",
       "-------------------------------------------------------------------------------\n",
       "df:\n",
       "Object of type \"0×0×0 ArrayStochastic{3}\"\n",
       "Array{Float64}(undef,0,0,0)\n",
       "-------------------------------------------------------------------------------\n",
       "rates:\n",
       "Object of type \"0-element ArrayLogical{1}\"\n",
       "Float64[]\n",
       "-------------------------------------------------------------------------------\n",
       "mtree:\n",
       "Object of type \"Main.MCPhylo.TreeStochastic\"\n",
       "\"noname\"\n",
       "-------------------------------------------------------------------------------\n",
       "mypi:\n",
       "Object of type \"ScalarStochastic\"\n",
       "NaN\n"
      ]
     },
     "execution_count": 8,
     "metadata": {},
     "output_type": "execute_result"
    }
   ],
   "source": [
    "# model setup\n",
    "model =  Model(\n",
    "    df = Stochastic(3,\n",
    "    (mtree, mypi, rates, nnodes, nbase, nsites) -> PhyloDist(mtree, mypi, rates, nnodes, nbase, nsites), false\n",
    "    ),\n",
    "    mypi = Stochastic( () -> Uniform(0.0,1.0)),\n",
    "    mtree = Stochastic(Node(), () -> CompoundDirichlet(1.0,1.0,0.100,1.0), true),\n",
    "    rates = Logical(1,(mymap, av) -> [av[convert(UInt8,i)] for i in mymap],false),\n",
    "    mymap = Stochastic(1,() -> Categorical([0.25, 0.25, 0.25, 0.25]), false),\n",
    "    av = Stochastic(1,() -> Dirichlet([1.0, 1.0, 1.0, 1.0]))\n",
    "     )\n"
   ]
  },
  {
   "cell_type": "code",
   "execution_count": 12,
   "metadata": {},
   "outputs": [
    {
     "name": "stdout",
     "output_type": "stream",
     "text": [
      "digraph MambaModel {\n",
      "\t\"mymap\" [shape=\"ellipse\", style=\"filled\", fillcolor=\"gray85\"];\n",
      "\t\t\"mymap\" -> \"rates\";\n",
      "\t\"av\" [shape=\"ellipse\"];\n",
      "\t\t\"av\" -> \"rates\";\n",
      "\t\"df\" [shape=\"ellipse\", style=\"filled\", fillcolor=\"gray85\"];\n",
      "\t\"mtree\" [shape=\"ellipse\"];\n",
      "\t\t\"mtree\" -> \"df\";\n",
      "\t\"mypi\" [shape=\"ellipse\"];\n",
      "\t\t\"mypi\" -> \"df\";\n",
      "\t\"rates\" [shape=\"diamond\", style=\"filled\", fillcolor=\"gray85\"];\n",
      "\t\t\"rates\" -> \"df\";\n",
      "\t\"nnodes\" [shape=\"box\", style=\"filled\", fillcolor=\"gray85\"];\n",
      "\t\t\"nnodes\" -> \"df\";\n",
      "\t\"nbase\" [shape=\"box\", style=\"filled\", fillcolor=\"gray85\"];\n",
      "\t\t\"nbase\" -> \"df\";\n",
      "\t\"nsites\" [shape=\"box\", style=\"filled\", fillcolor=\"gray85\"];\n",
      "\t\t\"nsites\" -> \"df\";\n",
      "}\n"
     ]
    }
   ],
   "source": [
    "draw(model)"
   ]
  },
  {
   "cell_type": "markdown",
   "metadata": {},
   "source": [
    "[title](my_graph.dot.pdf)"
   ]
  },
  {
   "cell_type": "code",
   "execution_count": null,
   "metadata": {},
   "outputs": [],
   "source": []
  }
 ],
 "metadata": {
  "kernelspec": {
   "display_name": "Julia 1.2.0",
   "language": "julia",
   "name": "julia-1.2"
  },
  "language_info": {
   "file_extension": ".jl",
   "mimetype": "application/julia",
   "name": "julia",
   "version": "1.2.0"
  }
 },
 "nbformat": 4,
 "nbformat_minor": 2
}
